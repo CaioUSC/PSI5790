{
  "nbformat": 4,
  "nbformat_minor": 0,
  "metadata": {
    "colab": {
      "provenance": []
    },
    "kernelspec": {
      "name": "python3",
      "display_name": "Python 3"
    },
    "language_info": {
      "name": "python"
    }
  },
  "cells": [
    {
      "cell_type": "code",
      "metadata": {
        "id": "a4aVP3czWi1v",
        "colab": {
          "base_uri": "https://localhost:8080/",
          "height": 631
        },
        "outputId": "2f025ca3-662d-43d0-c4b8-3e6428af37e3"
      },
      "source": [
        "# le_mnist.py 2024\n",
        "import os; os.environ['TF_CPP_MIN_LOG_LEVEL']='3'; import sys\n",
        "import tensorflow.keras as keras\n",
        "from tensorflow.keras.datasets import mnist\n",
        "from matplotlib import pyplot as plt\n",
        "\n",
        "(AX, AY), (QX, QY) = mnist.load_data()\n",
        "print(\"AX:\",AX.shape, AX.dtype)\n",
        "print(\"AY:\",AY.shape, AY.dtype)\n",
        "print(\"QX:\",QX.shape, QX.dtype)\n",
        "print(\"QY:\",QY.shape, QY.dtype)\n",
        "\n",
        "AX=255-AX; QX=255-QX\n",
        "plt.imshow(AX[0],cmap=\"gray\",interpolation=\"nearest\")\n",
        "# plt.imshow(QX[0],cmap=\"gray\",interpolation=\"nearest\")\n",
        "# print(\"QY[0]\",QY[0])\n",
        "plt.show()\n",
        "\n",
        "nclasses = 10\n",
        "# função to_categorical faz o onehot enconding (Saida, numero de classes)\n",
        "AY2 = keras.utils.to_categorical(AY, nclasses)\n",
        "QY2 = keras.utils.to_categorical(QY, nclasses)\n",
        "print(\"AY2:\",AY2.shape, AY2.dtype)\n",
        "print(\"QY2:\",QY2.shape, QY2.dtype)\n",
        "print(\"AY[0]:\",AY[0])\n",
        "print(\"AY2[0]:\",AY2[0])"
      ],
      "execution_count": null,
      "outputs": [
        {
          "output_type": "stream",
          "name": "stdout",
          "text": [
            "Downloading data from https://storage.googleapis.com/tensorflow/tf-keras-datasets/mnist.npz\n",
            "11490434/11490434 [==============================] - 0s 0us/step\n",
            "AX: (60000, 28, 28) uint8\n",
            "AY: (60000,) uint8\n",
            "QX: (10000, 28, 28) uint8\n",
            "QY: (10000,) uint8\n",
            "QY[0] 7\n"
          ]
        },
        {
          "output_type": "display_data",
          "data": {
            "text/plain": [
              "<Figure size 640x480 with 1 Axes>"
            ],
            "image/png": "[encoded data removed]"
          },
          "metadata": {}
        },
        {
          "output_type": "stream",
          "name": "stdout",
          "text": [
            "AY2: (60000, 10) float32\n",
            "QY2: (10000, 10) float32\n",
            "AY[0]: 5\n",
            "AY2[0]: [0. 0. 0. 0. 0. 1. 0. 0. 0. 0.]\n"
          ]
        }
      ]
    }
  ]
}