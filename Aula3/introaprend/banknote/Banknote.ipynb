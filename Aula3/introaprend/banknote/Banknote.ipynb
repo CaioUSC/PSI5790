{
  "nbformat": 4,
  "nbformat_minor": 0,
  "metadata": {
    "colab": {
      "provenance": []
    },
    "kernelspec": {
      "name": "python3",
      "display_name": "Python 3"
    },
    "language_info": {
      "name": "python"
    }
  },
  "cells": [
    {
      "cell_type": "markdown",
      "source": [
        "# Programa para identificação de notas falsas\n",
        "## Base de dados disponivel em:\n",
        "## https://archive.ics.uci.edu/dataset/267/banknote+authentication"
      ],
      "metadata": {
        "id": "q84iilMiRO5s"
      }
    },
    {
      "cell_type": "code",
      "source": [
        "# Bibliotecas importadas\n",
        "import numpy as np\n",
        "from sklearn import neighbors\n",
        "from sklearn import tree\n",
        "from sklearn import svm\n",
        "import matplotlib.pyplot as plt"
      ],
      "metadata": {
        "id": "7Z5L1JZvTsna"
      },
      "execution_count": 34,
      "outputs": []
    },
    {
      "cell_type": "markdown",
      "source": [
        "### Os arquivo original foi transformado nos arquivos ax,ay,qx e qy"
      ],
      "metadata": {
        "id": "2j6tUmj_UYf-"
      }
    },
    {
      "cell_type": "code",
      "source": [
        "# define a função para ler arquivos e transformar em matrizes\n",
        "def le(nomearq):\n",
        "  with open(nomearq,\"r\") as f:\n",
        "    linhas = f.readlines()\n",
        "  # primeira linha dos arquivos tem o numero de linhas e o numero de colunas\n",
        "  linha0 = linhas[0].split()\n",
        "  numeroLinhas=int(linha0[0])\n",
        "  numeroColunas=int(linha0[1])\n",
        "  a=np.empty((numeroLinhas,numeroColunas),dtype=np.float32)\n",
        "  for l in range(numeroLinhas):\n",
        "    linha=linhas[l+1].split()\n",
        "    for c in range(numeroColunas):\n",
        "      a[l,c] = np.float32(linha[c])\n",
        "  return a"
      ],
      "metadata": {
        "id": "S_c9_COIT0b2"
      },
      "execution_count": 5,
      "outputs": []
    },
    {
      "cell_type": "code",
      "source": [
        "## Le os arquivos com a base de treino e teste\n",
        "ax = le(\"ax.txt\") # Base de treino das features\n",
        "ay = le(\"ay.txt\") # Base de treino das labels\n",
        "qx = le(\"qx.txt\") # Base de teste das features\n",
        "qy = le(\"qy.txt\") # Base de teste das labels"
      ],
      "metadata": {
        "id": "dzj4FZ7jVWM8"
      },
      "execution_count": 6,
      "outputs": []
    },
    {
      "cell_type": "markdown",
      "source": [
        "### Classificador KNN"
      ],
      "metadata": {
        "id": "hg-tVvW3WIX8"
      }
    },
    {
      "cell_type": "code",
      "source": [
        "# classificador KNN\n",
        "vizinho = neighbors.KNeighborsClassifier(n_neighbors=1,weights=\"uniform\", algorithm=\"brute\")\n",
        "# Treina o classificador com a base de teste\n",
        "vizinho.fit(ax,ay.ravel())\n",
        "# Realiza a predição na base de teste\n",
        "qp = vizinho.predict(qx)\n",
        "erros=0\n",
        "for i in range(qp.shape[0]):\n",
        "  if qp[i]!=qy[i]: erros+=1\n",
        "print(\"Erros=%d/%d.   Pct=%1.3f%%\\n\"%(erros,qp.shape[0],100.0*erros/qp.shape[0]))"
      ],
      "metadata": {
        "colab": {
          "base_uri": "https://localhost:8080/"
        },
        "id": "N119b0zsUXdO",
        "outputId": "3aed0870-5a32-4aa1-df1d-bc9642fe7dcc"
      },
      "execution_count": 7,
      "outputs": [
        {
          "output_type": "stream",
          "name": "stdout",
          "text": [
            "Erros=1/686.   Pct=0.146%\n",
            "\n"
          ]
        }
      ]
    },
    {
      "cell_type": "markdown",
      "source": [
        "### Arvore de decisão"
      ],
      "metadata": {
        "id": "JIMEqbIMWNRa"
      }
    },
    {
      "cell_type": "code",
      "source": [
        "# classificador arvore de decisão\n",
        "arvore = tree.DecisionTreeClassifier()\n",
        "# Treina o classificador com a base de teste\n",
        "arvore = arvore.fit(ax,ay)\n",
        "# Realiza a predição na base de teste\n",
        "qp=arvore.predict(qx)\n",
        "erros=0;\n",
        "for i in range(qp.shape[0]):\n",
        "  if qp[i]!=qy[i]: erros+=1\n",
        "print(\"Erros=%d/%d.   Pct=%1.3f%%\\n\"%(erros,qp.shape[0],100.0*erros/qp.shape[0]))"
      ],
      "metadata": {
        "colab": {
          "base_uri": "https://localhost:8080/"
        },
        "id": "BHeImf0uVR8d",
        "outputId": "e84e6cfa-c21c-4842-f042-b466379765ae"
      },
      "execution_count": 33,
      "outputs": [
        {
          "output_type": "stream",
          "name": "stdout",
          "text": [
            "Erros=16/686.   Pct=2.332%\n",
            "\n"
          ]
        }
      ]
    },
    {
      "cell_type": "markdown",
      "source": [
        "### SVM"
      ],
      "metadata": {
        "id": "W6PUQCfHWnNl"
      }
    },
    {
      "cell_type": "code",
      "source": [
        "# classificador Support Vector Machines\n",
        "machine = svm.SVC()\n",
        "# Treina o classificador com a base de teste\n",
        "machine = machine.fit(ax,ay.ravel())\n",
        "# Realiza a predição na base de teste\n",
        "qp=machine.predict(qx)\n",
        "erros=0;\n",
        "for i in range(qp.shape[0]):\n",
        "  if qp[i]!=qy[i]: erros+=1\n",
        "print(\"Erros=%d/%d.   Pct=%1.3f%%\\n\"%(erros,qp.shape[0],100.0*erros/qp.shape[0]))"
      ],
      "metadata": {
        "colab": {
          "base_uri": "https://localhost:8080/"
        },
        "id": "k30a2vFpWsa1",
        "outputId": "f626b272-ed28-4e56-97f2-e6306c30cf96"
      },
      "execution_count": 36,
      "outputs": [
        {
          "output_type": "stream",
          "name": "stdout",
          "text": [
            "Erros=0/686.   Pct=0.000%\n",
            "\n"
          ]
        }
      ]
    }
  ]
}