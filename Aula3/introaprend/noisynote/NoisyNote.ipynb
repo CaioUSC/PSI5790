{
  "nbformat": 4,
  "nbformat_minor": 0,
  "metadata": {
    "colab": {
      "provenance": []
    },
    "kernelspec": {
      "name": "python3",
      "display_name": "Python 3"
    },
    "language_info": {
      "name": "python"
    }
  },
  "cells": [
    {
      "cell_type": "markdown",
      "source": [
        "# Progama para identificar notas falsas com ruido incluido no dataset\n",
        "## Base de dados disponivel em:\n",
        "## https://archive.ics.uci.edu/dataset/267/banknote+authentication\n",
        "## Ruido incluido manualmente ao acrescentar 3 novos atributos aleatorios"
      ],
      "metadata": {
        "id": "FmMjLgzvYHnB"
      }
    },
    {
      "cell_type": "code",
      "source": [
        "# Bibliotecas importadas\n",
        "import numpy as np\n",
        "from sklearn import neighbors\n",
        "from sklearn import tree\n",
        "from sklearn import svm\n",
        "import matplotlib.pyplot as plt"
      ],
      "metadata": {
        "id": "uhuY4rp1YP5l"
      },
      "execution_count": 2,
      "outputs": []
    },
    {
      "cell_type": "code",
      "source": [
        "# define a função para ler arquivos e transformar em matrizes\n",
        "def le(nomearq):\n",
        "  with open(nomearq,\"r\") as f:\n",
        "    linhas = f.readlines()\n",
        "  # primeira linha dos arquivos tem o numero de linhas e o numero de colunas\n",
        "  linha0 = linhas[0].split()\n",
        "  numeroLinhas=int(linha0[0])\n",
        "  numeroColunas=int(linha0[1])\n",
        "  a=np.empty((numeroLinhas,numeroColunas),dtype=np.float32)\n",
        "  for l in range(numeroLinhas):\n",
        "    linha=linhas[l+1].split()\n",
        "    for c in range(numeroColunas):\n",
        "      a[l,c] = np.float32(linha[c])\n",
        "  return a"
      ],
      "metadata": {
        "id": "V0yZJ_zKeKSF"
      },
      "execution_count": 3,
      "outputs": []
    },
    {
      "cell_type": "code",
      "source": [
        "## Le os arquivos com a base de treino e teste\n",
        "ax = le(\"ax.txt\") # Base de treino das features\n",
        "ay = le(\"ay.txt\") # Base de treino das labels\n",
        "qx = le(\"qx.txt\") # Base de teste das features\n",
        "qy = le(\"qy.txt\") # Base de teste das labels"
      ],
      "metadata": {
        "id": "vlcslilxeNye"
      },
      "execution_count": 4,
      "outputs": []
    },
    {
      "cell_type": "markdown",
      "source": [
        "## Classificador KNN"
      ],
      "metadata": {
        "id": "5YmpAYdEeQDg"
      }
    },
    {
      "cell_type": "code",
      "source": [
        "# classificador KNN\n",
        "vizinho = neighbors.KNeighborsClassifier(n_neighbors=1,weights=\"uniform\", algorithm=\"brute\")\n",
        "# Treina o classificador com a base de teste\n",
        "vizinho.fit(ax,ay.ravel())\n",
        "# Realiza a predição na base de teste\n",
        "qp = vizinho.predict(qx)\n",
        "erros=0\n",
        "for i in range(qp.shape[0]):\n",
        "  if qp[i]!=qy[i]: erros+=1\n",
        "print(\"Erros=%d/%d.   Pct=%1.3f%%\\n\"%(erros,qp.shape[0],100.0*erros/qp.shape[0]))"
      ],
      "metadata": {
        "colab": {
          "base_uri": "https://localhost:8080/"
        },
        "id": "SNleQxMFeR8G",
        "outputId": "8ffcf4cb-e4f5-4f9a-9d40-3b712804dcbf"
      },
      "execution_count": 208,
      "outputs": [
        {
          "output_type": "stream",
          "name": "stdout",
          "text": [
            "Erros=193/686.   Pct=28.134%\n",
            "\n"
          ]
        }
      ]
    },
    {
      "cell_type": "markdown",
      "source": [
        "## Arvore de decisão"
      ],
      "metadata": {
        "id": "bZKyoDmIeU5W"
      }
    },
    {
      "cell_type": "code",
      "source": [
        "# classificador arvore de decisão\n",
        "arvore = tree.DecisionTreeClassifier()\n",
        "# Treina o classificador com a base de teste\n",
        "arvore = arvore.fit(ax,ay)\n",
        "# Realiza a predição na base de teste\n",
        "qp=arvore.predict(qx)\n",
        "erros=0;\n",
        "for i in range(qp.shape[0]):\n",
        "  if qp[i]!=qy[i]: erros+=1\n",
        "print(\"Erros=%d/%d.   Pct=%1.3f%%\\n\"%(erros,qp.shape[0],100.0*erros/qp.shape[0]))"
      ],
      "metadata": {
        "colab": {
          "base_uri": "https://localhost:8080/"
        },
        "id": "HJDQLFpTeUSl",
        "outputId": "5e36306f-0ac0-4e60-b3f9-e6f3fd1b2a55"
      },
      "execution_count": 205,
      "outputs": [
        {
          "output_type": "stream",
          "name": "stdout",
          "text": [
            "Erros=18/686.   Pct=2.624%\n",
            "\n"
          ]
        }
      ]
    }
  ]
}